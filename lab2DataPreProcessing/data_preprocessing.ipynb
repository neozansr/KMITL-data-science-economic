{
 "cells": [
  {
   "cell_type": "markdown",
   "id": "0fe6a79f",
   "metadata": {},
   "source": [
    "# Data Preprocessing"
   ]
  },
  {
   "cell_type": "markdown",
   "id": "6e8eb896",
   "metadata": {},
   "source": [
    "## Data Gathering"
   ]
  },
  {
   "cell_type": "markdown",
   "id": "8f6bff6c",
   "metadata": {},
   "source": [
    "### Import Data"
   ]
  },
  {
   "cell_type": "markdown",
   "id": "f49558f1",
   "metadata": {},
   "source": [
    "#### CSV"
   ]
  },
  {
   "cell_type": "code",
   "execution_count": null,
   "id": "da9df448",
   "metadata": {},
   "outputs": [],
   "source": [
    "import pandas as pd"
   ]
  },
  {
   "cell_type": "code",
   "execution_count": null,
   "id": "f16daedd",
   "metadata": {},
   "outputs": [],
   "source": [
    "us_df = pd.read_csv('data/us_indicators.csv')"
   ]
  },
  {
   "cell_type": "code",
   "execution_count": null,
   "id": "3a23da32",
   "metadata": {},
   "outputs": [],
   "source": [
    "us_df"
   ]
  },
  {
   "cell_type": "markdown",
   "id": "a444379a",
   "metadata": {},
   "source": [
    "#### Excel"
   ]
  },
  {
   "cell_type": "code",
   "execution_count": null,
   "id": "7a3534b9",
   "metadata": {},
   "outputs": [],
   "source": [
    "import pandas as pd\n",
    "# Also require installing openpyxl"
   ]
  },
  {
   "cell_type": "code",
   "execution_count": null,
   "id": "c2e6b51c",
   "metadata": {},
   "outputs": [],
   "source": [
    "us_df = pd.read_excel('data/us_indicators.xlsx', sheet_name='Sheet1')"
   ]
  },
  {
   "cell_type": "code",
   "execution_count": null,
   "id": "361f9ffe",
   "metadata": {},
   "outputs": [],
   "source": [
    "us_df"
   ]
  },
  {
   "cell_type": "markdown",
   "id": "925de5ee",
   "metadata": {},
   "source": [
    "#### JSON"
   ]
  },
  {
   "cell_type": "code",
   "execution_count": null,
   "id": "4dd1e145",
   "metadata": {},
   "outputs": [],
   "source": [
    "import json\n",
    "import pandas as pd"
   ]
  },
  {
   "cell_type": "code",
   "execution_count": null,
   "id": "69d6bc35",
   "metadata": {},
   "outputs": [],
   "source": [
    "# Load JSON file as dictionary\n",
    "\n",
    "with open('data/us_indicators.json') as file:\n",
    "    us_dict = json.load(file)"
   ]
  },
  {
   "cell_type": "code",
   "execution_count": null,
   "id": "fcea638c",
   "metadata": {},
   "outputs": [],
   "source": [
    "us_dict"
   ]
  },
  {
   "cell_type": "code",
   "execution_count": null,
   "id": "51b2be7a",
   "metadata": {},
   "outputs": [],
   "source": [
    "us_df = pd.DataFrame(us_dict)"
   ]
  },
  {
   "cell_type": "code",
   "execution_count": null,
   "id": "85428d57",
   "metadata": {},
   "outputs": [],
   "source": [
    "us_df"
   ]
  },
  {
   "cell_type": "markdown",
   "id": "df12c774",
   "metadata": {},
   "source": [
    "#### Database"
   ]
  },
  {
   "cell_type": "code",
   "execution_count": null,
   "id": "de6c679c",
   "metadata": {},
   "outputs": [],
   "source": [
    "import sqlite3\n",
    "import pandas as pd"
   ]
  },
  {
   "cell_type": "code",
   "execution_count": null,
   "id": "add3ca51",
   "metadata": {},
   "outputs": [],
   "source": [
    "# Create connection to database\n",
    "conn = sqlite3.connect(database='data/data.db')"
   ]
  },
  {
   "cell_type": "code",
   "execution_count": null,
   "id": "900984d8",
   "metadata": {},
   "outputs": [],
   "source": [
    "# Set query command\n",
    "query = 'SELECT date, cpi, policy_rate, neer, money_supply FROM us_indicators'"
   ]
  },
  {
   "cell_type": "code",
   "execution_count": null,
   "id": "95c1f192",
   "metadata": {},
   "outputs": [],
   "source": [
    "us_df = pd.read_sql_query(query, conn)"
   ]
  },
  {
   "cell_type": "code",
   "execution_count": null,
   "id": "f32c36f5",
   "metadata": {},
   "outputs": [],
   "source": [
    "# Close connection\n",
    "conn.close()"
   ]
  },
  {
   "cell_type": "code",
   "execution_count": null,
   "id": "0f5a0a59",
   "metadata": {},
   "outputs": [],
   "source": [
    "us_df"
   ]
  },
  {
   "cell_type": "markdown",
   "id": "1be55e9a",
   "metadata": {},
   "source": [
    "#### API"
   ]
  },
  {
   "cell_type": "markdown",
   "id": "d243f4a8",
   "metadata": {},
   "source": [
    "Get data from https://fred.stlouisfed.org/docs/api/fred/"
   ]
  },
  {
   "cell_type": "code",
   "execution_count": null,
   "id": "c85f4f71",
   "metadata": {},
   "outputs": [],
   "source": [
    "import requests"
   ]
  },
  {
   "cell_type": "code",
   "execution_count": null,
   "id": "6a6796ef",
   "metadata": {},
   "outputs": [],
   "source": [
    "api_key = '5fd98b97565288c4cecea09d41f7a4ea'\n",
    "target_series = 'GNPCA'"
   ]
  },
  {
   "cell_type": "code",
   "execution_count": null,
   "id": "044d97e2",
   "metadata": {},
   "outputs": [],
   "source": [
    "url = 'https://api.stlouisfed.org/fred/series/observations'\n",
    "\n",
    "params = {\n",
    "    'series_id': target_series,\n",
    "    'api_key': api_key,\n",
    "    'file_type': 'json'\n",
    "}"
   ]
  },
  {
   "cell_type": "code",
   "execution_count": null,
   "id": "cac44bca",
   "metadata": {},
   "outputs": [],
   "source": [
    "response = requests.get(url, params=params)"
   ]
  },
  {
   "cell_type": "code",
   "execution_count": null,
   "id": "b3bcbb62",
   "metadata": {},
   "outputs": [],
   "source": [
    "# Check if the request was successful\n",
    "if response.status_code == 200:\n",
    "    # Load response as dictionary\n",
    "    response_dict = response.json()\n",
    "else:\n",
    "    # If request was not successful, print reason\n",
    "    print(f\"Error: {response.status_code}\")"
   ]
  },
  {
   "cell_type": "code",
   "execution_count": null,
   "id": "5605bb4a",
   "metadata": {},
   "outputs": [],
   "source": [
    "response_dict"
   ]
  },
  {
   "cell_type": "code",
   "execution_count": null,
   "id": "d044e744",
   "metadata": {},
   "outputs": [],
   "source": [
    "response_dict['observations']"
   ]
  },
  {
   "cell_type": "code",
   "execution_count": null,
   "id": "322fbf74",
   "metadata": {},
   "outputs": [],
   "source": [
    "gnpca_df = pd.DataFrame(response_dict['observations'])"
   ]
  },
  {
   "cell_type": "code",
   "execution_count": null,
   "id": "af7e6a10",
   "metadata": {},
   "outputs": [],
   "source": [
    "gnpca_df"
   ]
  },
  {
   "cell_type": "markdown",
   "id": "4c21dbfe",
   "metadata": {},
   "source": [
    "#### Web Scraping"
   ]
  },
  {
   "cell_type": "markdown",
   "id": "60cc9336",
   "metadata": {},
   "source": [
    "Web scraping is not recommended as it often violates the terms of use for many websites.  \n",
    "Whenever possible, use an API."
   ]
  },
  {
   "cell_type": "markdown",
   "id": "8e9e2d61",
   "metadata": {},
   "source": [
    "##### Table"
   ]
  },
  {
   "cell_type": "markdown",
   "id": "124108d6",
   "metadata": {},
   "source": [
    "Get data from https://en.wikipedia.org/wiki/List_of_Nobel_laureates_in_Physics"
   ]
  },
  {
   "cell_type": "code",
   "execution_count": null,
   "id": "c9e58ccf",
   "metadata": {},
   "outputs": [],
   "source": [
    "import pandas as pd\n",
    "# Also require installing lxml"
   ]
  },
  {
   "cell_type": "code",
   "execution_count": null,
   "id": "5c8a5670",
   "metadata": {},
   "outputs": [],
   "source": [
    "url = 'https://en.wikipedia.org/wiki/List_of_Nobel_laureates_in_Physics'"
   ]
  },
  {
   "cell_type": "code",
   "execution_count": null,
   "id": "1379cfd2",
   "metadata": {},
   "outputs": [],
   "source": [
    "# Get response\n",
    "response_list = pd.read_html(url)"
   ]
  },
  {
   "cell_type": "code",
   "execution_count": null,
   "id": "dfe784cc",
   "metadata": {},
   "outputs": [],
   "source": [
    "response_list"
   ]
  },
  {
   "cell_type": "code",
   "execution_count": null,
   "id": "76ab95b7",
   "metadata": {},
   "outputs": [],
   "source": [
    "test_df = response_list[0]"
   ]
  },
  {
   "cell_type": "code",
   "execution_count": null,
   "id": "0d36ba93",
   "metadata": {},
   "outputs": [],
   "source": [
    "test_df"
   ]
  },
  {
   "cell_type": "markdown",
   "id": "fc880ca1",
   "metadata": {},
   "source": [
    "#### Text"
   ]
  },
  {
   "cell_type": "markdown",
   "id": "3c330f1f",
   "metadata": {},
   "source": [
    "Get data from http://example.com"
   ]
  },
  {
   "cell_type": "code",
   "execution_count": null,
   "id": "1a8bb351",
   "metadata": {},
   "outputs": [],
   "source": [
    "import requests\n",
    "from bs4 import BeautifulSoup"
   ]
  },
  {
   "cell_type": "code",
   "execution_count": null,
   "id": "9233ed51",
   "metadata": {},
   "outputs": [],
   "source": [
    "url = 'http://example.com'"
   ]
  },
  {
   "cell_type": "code",
   "execution_count": null,
   "id": "c7b6b3d2",
   "metadata": {},
   "outputs": [],
   "source": [
    "# Get response\n",
    "response = requests.get(url)"
   ]
  },
  {
   "cell_type": "code",
   "execution_count": null,
   "id": "7ce70410",
   "metadata": {},
   "outputs": [],
   "source": [
    "# Check if the request was successful\n",
    "if response.status_code == 200:\n",
    "    # Parse the HTML content\n",
    "    soup = BeautifulSoup(response.content, 'html.parser')\n",
    "    \n",
    "    # Extract the text content\n",
    "    paragraphs = soup.find_all('p')\n",
    "\n",
    "    # Create a list to store data\n",
    "    prargraph_list = []\n",
    "    \n",
    "    # Print the text content\n",
    "    for paragraph in paragraphs:\n",
    "        prargraph_list.append(paragraph.get_text())\n",
    "else:\n",
    "    # If request was not successful, print reason\n",
    "    print(f\"Error: {response.status_code}\")"
   ]
  },
  {
   "cell_type": "code",
   "execution_count": null,
   "id": "100e6224",
   "metadata": {},
   "outputs": [],
   "source": [
    "prargraph_list"
   ]
  },
  {
   "cell_type": "markdown",
   "id": "11a128fb",
   "metadata": {},
   "source": [
    "#### Text file"
   ]
  },
  {
   "cell_type": "code",
   "execution_count": null,
   "id": "52005eb4",
   "metadata": {},
   "outputs": [],
   "source": [
    "# Load text line in the file as list\n",
    "\n",
    "with open('data/fed_meeting.txt', 'r') as file:\n",
    "    text_list = file.readlines()"
   ]
  },
  {
   "cell_type": "code",
   "execution_count": null,
   "id": "d914e40b",
   "metadata": {},
   "outputs": [],
   "source": [
    "text_list"
   ]
  },
  {
   "cell_type": "markdown",
   "id": "4b1fb06e",
   "metadata": {},
   "source": [
    "#### Picture"
   ]
  },
  {
   "cell_type": "code",
   "execution_count": null,
   "id": "dff2f02c",
   "metadata": {},
   "outputs": [],
   "source": [
    "import os\n",
    "from PIL import Image"
   ]
  },
  {
   "cell_type": "code",
   "execution_count": null,
   "id": "f9e9924b",
   "metadata": {},
   "outputs": [],
   "source": [
    "# Target picture folder\n",
    "folder_path = 'data/nasdaq'"
   ]
  },
  {
   "cell_type": "code",
   "execution_count": null,
   "id": "287ac659",
   "metadata": {},
   "outputs": [],
   "source": [
    "# Target files in the folder\n",
    "input_list = os.listdir(folder_path)"
   ]
  },
  {
   "cell_type": "code",
   "execution_count": null,
   "id": "a543dff9",
   "metadata": {},
   "outputs": [],
   "source": [
    "input_list"
   ]
  },
  {
   "cell_type": "code",
   "execution_count": null,
   "id": "7a6f72fa",
   "metadata": {},
   "outputs": [],
   "source": [
    "# Create a list to store data\n",
    "image_list = []"
   ]
  },
  {
   "cell_type": "code",
   "execution_count": null,
   "id": "9ae1be55",
   "metadata": {},
   "outputs": [],
   "source": [
    "for filename in input_list:\n",
    "    # Check if a file is picture\n",
    "    if filename.endswith(\".jpg\") or filename.endswith(\".png\"):\n",
    "        # Create full path to the file\n",
    "        file_path = os.path.join(folder_path, filename)\n",
    "        img = Image.open(file_path)\n",
    "        image_list.append(img)"
   ]
  },
  {
   "cell_type": "code",
   "execution_count": null,
   "id": "9d85b2f3",
   "metadata": {},
   "outputs": [],
   "source": [
    "image_list"
   ]
  },
  {
   "cell_type": "code",
   "execution_count": null,
   "id": "54a69173",
   "metadata": {},
   "outputs": [],
   "source": [
    "image_list[0].show()"
   ]
  },
  {
   "cell_type": "markdown",
   "id": "045b7f34",
   "metadata": {},
   "source": [
    "## Data Integration"
   ]
  },
  {
   "cell_type": "markdown",
   "id": "d4331ce0",
   "metadata": {},
   "source": [
    "### Merge data"
   ]
  },
  {
   "cell_type": "code",
   "execution_count": null,
   "id": "8afa3d60",
   "metadata": {},
   "outputs": [],
   "source": []
  },
  {
   "cell_type": "markdown",
   "id": "35fa6430",
   "metadata": {},
   "source": [
    "### Aggregation"
   ]
  },
  {
   "cell_type": "code",
   "execution_count": null,
   "id": "0ad53d08",
   "metadata": {},
   "outputs": [],
   "source": []
  },
  {
   "cell_type": "markdown",
   "id": "a91bf753",
   "metadata": {},
   "source": []
  },
  {
   "cell_type": "markdown",
   "id": "ff94537d",
   "metadata": {},
   "source": [
    "## Data Cleansing"
   ]
  },
  {
   "cell_type": "markdown",
   "id": "7ec922da",
   "metadata": {},
   "source": [
    "### Missing Value"
   ]
  },
  {
   "cell_type": "markdown",
   "id": "fd714555",
   "metadata": {},
   "source": [
    "#### Detect"
   ]
  },
  {
   "cell_type": "code",
   "execution_count": null,
   "id": "fa94bee9",
   "metadata": {},
   "outputs": [],
   "source": []
  },
  {
   "cell_type": "markdown",
   "id": "13c3b61f",
   "metadata": {},
   "source": [
    "#### Handling"
   ]
  },
  {
   "cell_type": "markdown",
   "id": "52c64d6d",
   "metadata": {},
   "source": [
    "##### Imputation"
   ]
  },
  {
   "cell_type": "code",
   "execution_count": null,
   "id": "88dcc251",
   "metadata": {},
   "outputs": [],
   "source": []
  },
  {
   "cell_type": "markdown",
   "id": "5333db39",
   "metadata": {},
   "source": [
    "##### Remove"
   ]
  },
  {
   "cell_type": "code",
   "execution_count": null,
   "id": "47b10d99",
   "metadata": {},
   "outputs": [],
   "source": []
  },
  {
   "cell_type": "markdown",
   "id": "e6a889c9",
   "metadata": {},
   "source": [
    "### Dupplicate Data"
   ]
  },
  {
   "cell_type": "markdown",
   "id": "2a34e351",
   "metadata": {},
   "source": [
    "#### Detect"
   ]
  },
  {
   "cell_type": "code",
   "execution_count": null,
   "id": "1cafed87",
   "metadata": {},
   "outputs": [],
   "source": []
  },
  {
   "cell_type": "markdown",
   "id": "3f6aaec1",
   "metadata": {},
   "source": [
    "#### Handling"
   ]
  },
  {
   "cell_type": "markdown",
   "id": "ec16c9dd",
   "metadata": {},
   "source": [
    "##### Remove"
   ]
  },
  {
   "cell_type": "code",
   "execution_count": null,
   "id": "f128b340",
   "metadata": {},
   "outputs": [],
   "source": []
  },
  {
   "cell_type": "markdown",
   "id": "3d7cf488",
   "metadata": {},
   "source": [
    "#### Consolidate"
   ]
  },
  {
   "cell_type": "code",
   "execution_count": null,
   "id": "64db838a",
   "metadata": {},
   "outputs": [],
   "source": []
  },
  {
   "cell_type": "markdown",
   "id": "9090151e",
   "metadata": {},
   "source": [
    "### Type Mismatch"
   ]
  },
  {
   "cell_type": "markdown",
   "id": "7613eff3",
   "metadata": {},
   "source": [
    "#### Detect"
   ]
  },
  {
   "cell_type": "code",
   "execution_count": null,
   "id": "5a8d68ae",
   "metadata": {},
   "outputs": [],
   "source": []
  },
  {
   "cell_type": "markdown",
   "id": "b860ae50",
   "metadata": {},
   "source": [
    "#### Handling"
   ]
  },
  {
   "cell_type": "code",
   "execution_count": null,
   "id": "8ca55377",
   "metadata": {},
   "outputs": [],
   "source": []
  },
  {
   "cell_type": "markdown",
   "id": "8545e761",
   "metadata": {},
   "source": [
    "## Feature Engineering"
   ]
  },
  {
   "cell_type": "markdown",
   "id": "1f7337c2",
   "metadata": {},
   "source": [
    "### Feature Creation"
   ]
  },
  {
   "cell_type": "code",
   "execution_count": null,
   "id": "c4a14752",
   "metadata": {},
   "outputs": [],
   "source": []
  },
  {
   "cell_type": "markdown",
   "id": "450424a7",
   "metadata": {},
   "source": [
    "### Encoding"
   ]
  },
  {
   "cell_type": "markdown",
   "id": "efea0eb8",
   "metadata": {},
   "source": [
    "#### One-hot Encoding"
   ]
  },
  {
   "cell_type": "code",
   "execution_count": null,
   "id": "38ca1062",
   "metadata": {},
   "outputs": [],
   "source": []
  },
  {
   "cell_type": "markdown",
   "id": "b002e288",
   "metadata": {},
   "source": [
    "#### Label Encoding"
   ]
  },
  {
   "cell_type": "code",
   "execution_count": null,
   "id": "cfdaa324",
   "metadata": {},
   "outputs": [],
   "source": []
  },
  {
   "cell_type": "markdown",
   "id": "b7d78104",
   "metadata": {},
   "source": [
    "### Transformation"
   ]
  },
  {
   "cell_type": "markdown",
   "id": "99f82405",
   "metadata": {},
   "source": [
    "#### Normalization"
   ]
  },
  {
   "cell_type": "code",
   "execution_count": null,
   "id": "dd4e4d17",
   "metadata": {},
   "outputs": [],
   "source": []
  },
  {
   "cell_type": "markdown",
   "id": "0941bfcc",
   "metadata": {},
   "source": [
    "#### Scaling"
   ]
  },
  {
   "cell_type": "code",
   "execution_count": null,
   "id": "bc1ea446",
   "metadata": {},
   "outputs": [],
   "source": []
  },
  {
   "cell_type": "markdown",
   "id": "3f06fed4",
   "metadata": {},
   "source": [
    "### Dimensionality Reduction"
   ]
  },
  {
   "cell_type": "code",
   "execution_count": null,
   "id": "177e45bb",
   "metadata": {},
   "outputs": [],
   "source": []
  }
 ],
 "metadata": {
  "kernelspec": {
   "display_name": "Python 3 (ipykernel)",
   "language": "python",
   "name": "python3"
  },
  "language_info": {
   "codemirror_mode": {
    "name": "ipython",
    "version": 3
   },
   "file_extension": ".py",
   "mimetype": "text/x-python",
   "name": "python",
   "nbconvert_exporter": "python",
   "pygments_lexer": "ipython3",
   "version": "3.12.4"
  }
 },
 "nbformat": 4,
 "nbformat_minor": 5
}
