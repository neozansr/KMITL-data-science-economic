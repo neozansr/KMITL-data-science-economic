{
 "cells": [
  {
   "cell_type": "markdown",
   "id": "ff94537d",
   "metadata": {},
   "source": [
    "# Data Cleansing"
   ]
  },
  {
   "cell_type": "code",
   "execution_count": null,
   "id": "c819006a",
   "metadata": {},
   "outputs": [],
   "source": [
    "import pandas as pd"
   ]
  },
  {
   "cell_type": "code",
   "execution_count": null,
   "id": "6658aca6",
   "metadata": {},
   "outputs": [],
   "source": [
    "df = pd.read_csv('data/us_indicators_raw.csv')"
   ]
  },
  {
   "cell_type": "code",
   "execution_count": null,
   "id": "bf653227",
   "metadata": {},
   "outputs": [],
   "source": [
    "df"
   ]
  },
  {
   "cell_type": "markdown",
   "id": "665760b9",
   "metadata": {},
   "source": [
    "## Data Type"
   ]
  },
  {
   "cell_type": "code",
   "execution_count": null,
   "id": "dde85746",
   "metadata": {},
   "outputs": [],
   "source": [
    "modified_df = df.copy()"
   ]
  },
  {
   "cell_type": "markdown",
   "id": "f654f38c",
   "metadata": {},
   "source": [
    "### Number"
   ]
  },
  {
   "cell_type": "code",
   "execution_count": null,
   "id": "d479e4c8",
   "metadata": {},
   "outputs": [],
   "source": [
    "modified_df['policy_rate'].dtype"
   ]
  },
  {
   "cell_type": "code",
   "execution_count": null,
   "id": "52a4cf8e",
   "metadata": {},
   "outputs": [],
   "source": [
    "modified_df['policy_rate'] = modified_df['policy_rate'].astype(int)"
   ]
  },
  {
   "cell_type": "code",
   "execution_count": null,
   "id": "535f1461",
   "metadata": {},
   "outputs": [],
   "source": [
    "modified_df['policy_rate'].dtype"
   ]
  },
  {
   "cell_type": "code",
   "execution_count": null,
   "id": "723b4064",
   "metadata": {},
   "outputs": [],
   "source": [
    "modified_df"
   ]
  },
  {
   "cell_type": "code",
   "execution_count": null,
   "id": "7336af6f",
   "metadata": {},
   "outputs": [],
   "source": [
    "modified_df['policy_rate'] = modified_df['policy_rate'].astype(float)"
   ]
  },
  {
   "cell_type": "code",
   "execution_count": null,
   "id": "33989958",
   "metadata": {},
   "outputs": [],
   "source": [
    "modified_df['policy_rate'].dtype"
   ]
  },
  {
   "cell_type": "code",
   "execution_count": null,
   "id": "c0a552cb",
   "metadata": {},
   "outputs": [],
   "source": [
    "modified_df"
   ]
  },
  {
   "cell_type": "markdown",
   "id": "d40df357",
   "metadata": {},
   "source": [
    "### Text"
   ]
  },
  {
   "cell_type": "code",
   "execution_count": null,
   "id": "bb43651d",
   "metadata": {},
   "outputs": [],
   "source": [
    "modified_df['money_supply'].dtype"
   ]
  },
  {
   "cell_type": "code",
   "execution_count": null,
   "id": "0ac8c286",
   "metadata": {},
   "outputs": [],
   "source": [
    "modified_df['money_supply'] = modified_df['money_supply'] * 1000"
   ]
  },
  {
   "cell_type": "code",
   "execution_count": null,
   "id": "edbb57cb",
   "metadata": {},
   "outputs": [],
   "source": [
    "modified_df"
   ]
  },
  {
   "cell_type": "code",
   "execution_count": null,
   "id": "9dba046a",
   "metadata": {},
   "outputs": [],
   "source": [
    "modified_df['money_supply'] = modified_df['money_supply'].astype(str)"
   ]
  },
  {
   "cell_type": "code",
   "execution_count": null,
   "id": "cf4fe9d1",
   "metadata": {},
   "outputs": [],
   "source": [
    "modified_df['money_supply'].dtype"
   ]
  },
  {
   "cell_type": "code",
   "execution_count": null,
   "id": "7437e851",
   "metadata": {},
   "outputs": [],
   "source": [
    "modified_df['money_supply'] = modified_df['money_supply'] + \" MUSD\""
   ]
  },
  {
   "cell_type": "code",
   "execution_count": null,
   "id": "6179a045",
   "metadata": {},
   "outputs": [],
   "source": [
    "modified_df"
   ]
  },
  {
   "cell_type": "markdown",
   "id": "cb21cd08",
   "metadata": {},
   "source": [
    "### Date Time"
   ]
  },
  {
   "cell_type": "code",
   "execution_count": null,
   "id": "195d77e6",
   "metadata": {},
   "outputs": [],
   "source": [
    "df['date'].dtype"
   ]
  },
  {
   "cell_type": "code",
   "execution_count": null,
   "id": "7c1f33c8",
   "metadata": {},
   "outputs": [],
   "source": [
    "df.sort_values(by='date')"
   ]
  },
  {
   "cell_type": "code",
   "execution_count": null,
   "id": "d4e26b00",
   "metadata": {},
   "outputs": [],
   "source": [
    "df['date'] = pd.to_datetime(df['date'], format='%d/%m/%Y')"
   ]
  },
  {
   "cell_type": "markdown",
   "id": "4450ed35",
   "metadata": {},
   "source": [
    "see date format at https://docs.python.org/3/library/datetime.html#strftime-and-strptime-behavior"
   ]
  },
  {
   "cell_type": "code",
   "execution_count": null,
   "id": "eb8210d1",
   "metadata": {},
   "outputs": [],
   "source": [
    "df['date'].dtype"
   ]
  },
  {
   "cell_type": "code",
   "execution_count": null,
   "id": "68035083",
   "metadata": {},
   "outputs": [],
   "source": [
    "df.sort_values(by='date')"
   ]
  },
  {
   "cell_type": "markdown",
   "id": "8c7b9567",
   "metadata": {},
   "source": [
    "## Data Filtering"
   ]
  },
  {
   "cell_type": "markdown",
   "id": "92ad35fd",
   "metadata": {},
   "source": [
    "### Filter Column"
   ]
  },
  {
   "cell_type": "markdown",
   "id": "6698033c",
   "metadata": {},
   "source": [
    "#### By Name"
   ]
  },
  {
   "cell_type": "code",
   "execution_count": null,
   "id": "8d40a7d4",
   "metadata": {},
   "outputs": [],
   "source": [
    "policy_cols = ['date', 'policy_rate', 'money_supply', 'type_of_monetary_policy']"
   ]
  },
  {
   "cell_type": "code",
   "execution_count": null,
   "id": "ea7f24bd",
   "metadata": {},
   "outputs": [],
   "source": [
    "df[policy_cols]"
   ]
  },
  {
   "cell_type": "code",
   "execution_count": null,
   "id": "36600070",
   "metadata": {},
   "outputs": [],
   "source": [
    "df.drop(columns=['cpi', 'inflation_target'])"
   ]
  },
  {
   "cell_type": "code",
   "execution_count": null,
   "id": "4d1a35bc",
   "metadata": {},
   "outputs": [],
   "source": [
    "df.loc[:, policy_cols]"
   ]
  },
  {
   "cell_type": "markdown",
   "id": "163460b4",
   "metadata": {},
   "source": [
    "#### By Index"
   ]
  },
  {
   "cell_type": "code",
   "execution_count": null,
   "id": "cecdf274",
   "metadata": {},
   "outputs": [],
   "source": [
    "df.iloc[:, :4]"
   ]
  },
  {
   "cell_type": "markdown",
   "id": "29637f66",
   "metadata": {},
   "source": [
    "### Filter Row"
   ]
  },
  {
   "cell_type": "markdown",
   "id": "f9798762",
   "metadata": {},
   "source": [
    "#### By Index"
   ]
  },
  {
   "cell_type": "code",
   "execution_count": null,
   "id": "9de9d079",
   "metadata": {},
   "outputs": [],
   "source": [
    "df.loc[:100, :]"
   ]
  },
  {
   "cell_type": "code",
   "execution_count": null,
   "id": "363977b4",
   "metadata": {},
   "outputs": [],
   "source": [
    "df.loc[100:, :]"
   ]
  },
  {
   "cell_type": "code",
   "execution_count": null,
   "id": "32977e59",
   "metadata": {},
   "outputs": [],
   "source": [
    "df.loc[10:30, :]"
   ]
  },
  {
   "cell_type": "markdown",
   "id": "43e3417a",
   "metadata": {},
   "source": [
    "#### By Logic"
   ]
  },
  {
   "cell_type": "code",
   "execution_count": null,
   "id": "1612ab19",
   "metadata": {},
   "outputs": [],
   "source": [
    "df[df['type_of_monetary_policy'] == 'ease']"
   ]
  },
  {
   "cell_type": "code",
   "execution_count": null,
   "id": "d3e8c557",
   "metadata": {},
   "outputs": [],
   "source": [
    "df[df['neer'] > 100]"
   ]
  },
  {
   "cell_type": "code",
   "execution_count": null,
   "id": "998a357d",
   "metadata": {},
   "outputs": [],
   "source": [
    "df[\n",
    "    (df['type_of_monetary_policy'] == 'ease') &\n",
    "    (df['neer'] > 100)\n",
    "]"
   ]
  },
  {
   "cell_type": "markdown",
   "id": "7ec922da",
   "metadata": {},
   "source": [
    "## Missing Value"
   ]
  },
  {
   "cell_type": "markdown",
   "id": "fd714555",
   "metadata": {},
   "source": [
    "### Detect"
   ]
  },
  {
   "cell_type": "code",
   "execution_count": null,
   "id": "fa94bee9",
   "metadata": {},
   "outputs": [],
   "source": [
    "df.loc[df['cpi'].isnull(), :]"
   ]
  },
  {
   "cell_type": "markdown",
   "id": "13c3b61f",
   "metadata": {},
   "source": [
    "### Handling"
   ]
  },
  {
   "cell_type": "code",
   "execution_count": null,
   "id": "a230e8f6",
   "metadata": {},
   "outputs": [],
   "source": [
    "missing_index = df.loc[df['cpi'].isnull(), :].index\n",
    "missing_index"
   ]
  },
  {
   "cell_type": "markdown",
   "id": "638e37f0",
   "metadata": {},
   "source": [
    "#### Fill Value"
   ]
  },
  {
   "cell_type": "code",
   "execution_count": null,
   "id": "d108ddfa",
   "metadata": {},
   "outputs": [],
   "source": [
    "fill_df = df.copy()"
   ]
  },
  {
   "cell_type": "code",
   "execution_count": null,
   "id": "52539a92",
   "metadata": {},
   "outputs": [],
   "source": [
    "fill_df['cpi'] = fill_df['cpi'].fillna(0)"
   ]
  },
  {
   "cell_type": "code",
   "execution_count": null,
   "id": "724267da",
   "metadata": {},
   "outputs": [],
   "source": [
    "fill_df.loc[missing_index, :]"
   ]
  },
  {
   "cell_type": "markdown",
   "id": "67aa6318",
   "metadata": {},
   "source": [
    "#### Fill Foward"
   ]
  },
  {
   "cell_type": "code",
   "execution_count": null,
   "id": "3f4e5ab6",
   "metadata": {},
   "outputs": [],
   "source": [
    "ffill_df = df.copy()"
   ]
  },
  {
   "cell_type": "code",
   "execution_count": null,
   "id": "79500b9b",
   "metadata": {},
   "outputs": [],
   "source": [
    "ffill_df.loc[4, :]"
   ]
  },
  {
   "cell_type": "code",
   "execution_count": null,
   "id": "a45a6d8a",
   "metadata": {},
   "outputs": [],
   "source": [
    "ffill_df['cpi'] = ffill_df['cpi'].ffill()"
   ]
  },
  {
   "cell_type": "code",
   "execution_count": null,
   "id": "fb0a8f8a",
   "metadata": {},
   "outputs": [],
   "source": [
    "ffill_df.loc[missing_index, :]"
   ]
  },
  {
   "cell_type": "markdown",
   "id": "a9c12283",
   "metadata": {},
   "source": [
    "#### Fill Backward"
   ]
  },
  {
   "cell_type": "code",
   "execution_count": null,
   "id": "4f107f39",
   "metadata": {},
   "outputs": [],
   "source": [
    "bfill_df = df.copy()"
   ]
  },
  {
   "cell_type": "code",
   "execution_count": null,
   "id": "0cc7fc5d",
   "metadata": {},
   "outputs": [],
   "source": [
    "ffill_df.loc[11, :]"
   ]
  },
  {
   "cell_type": "code",
   "execution_count": null,
   "id": "6f508405",
   "metadata": {},
   "outputs": [],
   "source": [
    "bfill_df['cpi'] = bfill_df['cpi'].bfill()"
   ]
  },
  {
   "cell_type": "code",
   "execution_count": null,
   "id": "84ce0da4",
   "metadata": {},
   "outputs": [],
   "source": [
    "bfill_df.loc[missing_index, :]"
   ]
  },
  {
   "cell_type": "markdown",
   "id": "52c64d6d",
   "metadata": {},
   "source": [
    "#### Imputation"
   ]
  },
  {
   "cell_type": "code",
   "execution_count": null,
   "id": "e96afa9b",
   "metadata": {},
   "outputs": [],
   "source": [
    "imputation_df = df.copy()"
   ]
  },
  {
   "cell_type": "code",
   "execution_count": null,
   "id": "fab88914",
   "metadata": {},
   "outputs": [],
   "source": [
    "imputation_df['cpi'].mean()"
   ]
  },
  {
   "cell_type": "code",
   "execution_count": null,
   "id": "6a9022a3",
   "metadata": {},
   "outputs": [],
   "source": [
    "imputation_df['cpi'] = imputation_df['cpi'].fillna(imputation_df['cpi'].mean())"
   ]
  },
  {
   "cell_type": "code",
   "execution_count": null,
   "id": "2563adc1",
   "metadata": {},
   "outputs": [],
   "source": [
    "imputation_df.loc[missing_index, :]"
   ]
  },
  {
   "cell_type": "markdown",
   "id": "2640d342",
   "metadata": {},
   "source": [
    "#### Interpolatation"
   ]
  },
  {
   "cell_type": "code",
   "execution_count": null,
   "id": "9dede3ad",
   "metadata": {},
   "outputs": [],
   "source": [
    "interpolation_df = df.copy()"
   ]
  },
  {
   "cell_type": "code",
   "execution_count": null,
   "id": "ce6fec78",
   "metadata": {},
   "outputs": [],
   "source": [
    "interpolation_df.loc[4:11]"
   ]
  },
  {
   "cell_type": "code",
   "execution_count": null,
   "id": "450c5dbb",
   "metadata": {},
   "outputs": [],
   "source": [
    "interpolation_df['cpi'] = interpolation_df['cpi'].interpolate(method='linear')"
   ]
  },
  {
   "cell_type": "code",
   "execution_count": null,
   "id": "6d482adc",
   "metadata": {},
   "outputs": [],
   "source": [
    "interpolation_df.loc[4:11]"
   ]
  },
  {
   "cell_type": "markdown",
   "id": "5333db39",
   "metadata": {},
   "source": [
    "#### Remove"
   ]
  },
  {
   "cell_type": "code",
   "execution_count": null,
   "id": "47b10d99",
   "metadata": {},
   "outputs": [],
   "source": [
    "remove_df = df.copy()"
   ]
  },
  {
   "cell_type": "code",
   "execution_count": null,
   "id": "8753d31e",
   "metadata": {},
   "outputs": [],
   "source": [
    "remove_df.loc[4:11]"
   ]
  },
  {
   "cell_type": "code",
   "execution_count": null,
   "id": "16146c0c",
   "metadata": {},
   "outputs": [],
   "source": [
    "remove_df = remove_df.dropna()"
   ]
  },
  {
   "cell_type": "code",
   "execution_count": null,
   "id": "efe2cd9b",
   "metadata": {},
   "outputs": [],
   "source": [
    "remove_df.loc[4:11]"
   ]
  },
  {
   "cell_type": "code",
   "execution_count": null,
   "id": "fe0bb030",
   "metadata": {},
   "outputs": [],
   "source": [
    "remove_df = remove_df.reset_index(drop=True)"
   ]
  },
  {
   "cell_type": "code",
   "execution_count": null,
   "id": "934be31e",
   "metadata": {},
   "outputs": [],
   "source": [
    "remove_df.loc[4:11]"
   ]
  },
  {
   "cell_type": "markdown",
   "id": "e6a889c9",
   "metadata": {},
   "source": [
    "## Duplicate Data"
   ]
  },
  {
   "cell_type": "markdown",
   "id": "2a34e351",
   "metadata": {},
   "source": [
    "### Detect"
   ]
  },
  {
   "cell_type": "code",
   "execution_count": null,
   "id": "f1c7e689",
   "metadata": {},
   "outputs": [],
   "source": [
    "df.loc[df.duplicated(subset=['date']), :]"
   ]
  },
  {
   "cell_type": "code",
   "execution_count": null,
   "id": "1cafed87",
   "metadata": {},
   "outputs": [],
   "source": [
    "df.loc[df.duplicated(subset=['date'], keep=False), :]"
   ]
  },
  {
   "cell_type": "markdown",
   "id": "3f6aaec1",
   "metadata": {},
   "source": [
    "### Handling"
   ]
  },
  {
   "cell_type": "markdown",
   "id": "ec16c9dd",
   "metadata": {},
   "source": [
    "#### Keep First"
   ]
  },
  {
   "cell_type": "code",
   "execution_count": null,
   "id": "fb9f7dd6",
   "metadata": {},
   "outputs": [],
   "source": [
    "keep_first_df = df.copy()"
   ]
  },
  {
   "cell_type": "code",
   "execution_count": null,
   "id": "2d11effc",
   "metadata": {},
   "outputs": [],
   "source": [
    "keep_first_df.loc[12:15]"
   ]
  },
  {
   "cell_type": "code",
   "execution_count": null,
   "id": "f128b340",
   "metadata": {},
   "outputs": [],
   "source": [
    "keep_first_df = keep_first_df.drop_duplicates(subset=['date'], keep='first').reset_index(drop=True)"
   ]
  },
  {
   "cell_type": "code",
   "execution_count": null,
   "id": "bfd5e3b6",
   "metadata": {},
   "outputs": [],
   "source": [
    "keep_first_df.loc[12:15]"
   ]
  },
  {
   "cell_type": "markdown",
   "id": "f50389c9",
   "metadata": {},
   "source": [
    "#### Keep Last"
   ]
  },
  {
   "cell_type": "code",
   "execution_count": null,
   "id": "dca2acd1",
   "metadata": {},
   "outputs": [],
   "source": [
    "keep_last_df = df.copy()"
   ]
  },
  {
   "cell_type": "code",
   "execution_count": null,
   "id": "7f92176f",
   "metadata": {},
   "outputs": [],
   "source": [
    "keep_last_df.loc[12:15]"
   ]
  },
  {
   "cell_type": "code",
   "execution_count": null,
   "id": "49f022e6",
   "metadata": {},
   "outputs": [],
   "source": [
    "keep_last_df = keep_last_df.drop_duplicates(subset=['date'], keep='last').reset_index(drop=True)"
   ]
  },
  {
   "cell_type": "code",
   "execution_count": null,
   "id": "ce318048",
   "metadata": {},
   "outputs": [],
   "source": [
    "keep_last_df.loc[12:15]"
   ]
  }
 ],
 "metadata": {
  "kernelspec": {
   "display_name": "Python 3 (ipykernel)",
   "language": "python",
   "name": "python3"
  },
  "language_info": {
   "codemirror_mode": {
    "name": "ipython",
    "version": 3
   },
   "file_extension": ".py",
   "mimetype": "text/x-python",
   "name": "python",
   "nbconvert_exporter": "python",
   "pygments_lexer": "ipython3",
   "version": "3.12.4"
  }
 },
 "nbformat": 4,
 "nbformat_minor": 5
}
