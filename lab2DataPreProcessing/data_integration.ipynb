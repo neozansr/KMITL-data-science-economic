{
 "cells": [
  {
   "cell_type": "markdown",
   "id": "d2539009",
   "metadata": {},
   "source": [
    "# Data Integration"
   ]
  },
  {
   "cell_type": "code",
   "execution_count": null,
   "id": "8c2c3073",
   "metadata": {},
   "outputs": [],
   "source": [
    "import pandas as pd"
   ]
  },
  {
   "cell_type": "code",
   "execution_count": null,
   "id": "ec87f138",
   "metadata": {},
   "outputs": [],
   "source": [
    "us_df = pd.read_csv('data/us_indicators.csv')\n",
    "th_df = pd.read_csv('data/th_indicators.csv')"
   ]
  },
  {
   "cell_type": "code",
   "execution_count": null,
   "id": "76371048",
   "metadata": {},
   "outputs": [],
   "source": [
    "# Change date type to datetime format.\n",
    "us_df['date'] = pd.to_datetime(us_df['date'], format='%d/%m/%Y')\n",
    "th_df['date'] = pd.to_datetime(th_df['date'], format='%d/%m/%Y')"
   ]
  },
  {
   "cell_type": "code",
   "execution_count": null,
   "id": "ecfb4c21",
   "metadata": {},
   "outputs": [],
   "source": [
    "us_df"
   ]
  },
  {
   "cell_type": "code",
   "execution_count": null,
   "id": "a01b375e",
   "metadata": {},
   "outputs": [],
   "source": [
    "th_df"
   ]
  },
  {
   "cell_type": "code",
   "execution_count": null,
   "id": "981cf58f",
   "metadata": {},
   "outputs": [],
   "source": [
    "# Drop us_df rows to demonstrate join types.\n",
    "us_df = us_df.loc[:200, :].reset_index(drop=True)\n",
    "us_df"
   ]
  },
  {
   "cell_type": "markdown",
   "id": "d0437bed",
   "metadata": {},
   "source": [
    "## Merge Data"
   ]
  },
  {
   "cell_type": "markdown",
   "id": "9f5db747",
   "metadata": {},
   "source": [
    "### Concatenate"
   ]
  },
  {
   "cell_type": "markdown",
   "id": "43ecd915",
   "metadata": {},
   "source": [
    "#### Vertical"
   ]
  },
  {
   "cell_type": "code",
   "execution_count": null,
   "id": "afa3c17f",
   "metadata": {},
   "outputs": [],
   "source": [
    "us_cpi_df = us_df.loc[:, ['date', 'cpi']]\n",
    "us_cpi_df.loc[:, 'country'] = 'us'\n",
    "\n",
    "th_cpi_df = th_df.loc[:, ['date', 'cpi']]\n",
    "th_cpi_df.loc[:, 'country'] = 'th'"
   ]
  },
  {
   "cell_type": "code",
   "execution_count": null,
   "id": "d498778e",
   "metadata": {},
   "outputs": [],
   "source": [
    "us_cpi_df"
   ]
  },
  {
   "cell_type": "code",
   "execution_count": null,
   "id": "89d73a3c",
   "metadata": {},
   "outputs": [],
   "source": [
    "th_cpi_df"
   ]
  },
  {
   "cell_type": "code",
   "execution_count": null,
   "id": "96034e0d",
   "metadata": {},
   "outputs": [],
   "source": [
    "pd.concat([us_cpi_df, th_cpi_df], axis=0).reset_index(drop=True)"
   ]
  },
  {
   "cell_type": "markdown",
   "id": "a4c2b368",
   "metadata": {},
   "source": [
    "#### Horizontal"
   ]
  },
  {
   "cell_type": "code",
   "execution_count": null,
   "id": "55f70b6c",
   "metadata": {},
   "outputs": [],
   "source": [
    "fst_us_df = us_df.iloc[:, :5]\n",
    "snd_us_df = us_df.iloc[:, 5:]"
   ]
  },
  {
   "cell_type": "code",
   "execution_count": null,
   "id": "36c250f4",
   "metadata": {},
   "outputs": [],
   "source": [
    "fst_us_df"
   ]
  },
  {
   "cell_type": "code",
   "execution_count": null,
   "id": "2232a722",
   "metadata": {},
   "outputs": [],
   "source": [
    "snd_us_df"
   ]
  },
  {
   "cell_type": "code",
   "execution_count": null,
   "id": "2f4b5c02",
   "metadata": {},
   "outputs": [],
   "source": [
    "pd.concat([fst_us_df, snd_us_df], axis=1)"
   ]
  },
  {
   "cell_type": "markdown",
   "id": "fe975214",
   "metadata": {},
   "source": [
    "### Join"
   ]
  },
  {
   "cell_type": "markdown",
   "id": "4b4f56af",
   "metadata": {},
   "source": [
    "#### Inner Join"
   ]
  },
  {
   "cell_type": "code",
   "execution_count": null,
   "id": "b9da4821",
   "metadata": {},
   "outputs": [],
   "source": [
    "us_df.merge(th_df, how='inner', on=['date'], suffixes=('_en', '_th'))"
   ]
  },
  {
   "cell_type": "markdown",
   "id": "1e2e9431",
   "metadata": {},
   "source": [
    "#### Outer Join"
   ]
  },
  {
   "cell_type": "code",
   "execution_count": null,
   "id": "9a1ba94d",
   "metadata": {},
   "outputs": [],
   "source": [
    "us_df.merge(th_df, how='outer', on=['date'], suffixes=('_en', '_th'))"
   ]
  },
  {
   "cell_type": "markdown",
   "id": "14002100",
   "metadata": {},
   "source": [
    "#### Left Join"
   ]
  },
  {
   "cell_type": "code",
   "execution_count": null,
   "id": "6a6449ae",
   "metadata": {},
   "outputs": [],
   "source": [
    "us_df.merge(th_df, how='left', on=['date'], suffixes=('_en', '_th'))"
   ]
  },
  {
   "cell_type": "markdown",
   "id": "16579975",
   "metadata": {},
   "source": [
    "#### Right Join"
   ]
  },
  {
   "cell_type": "code",
   "execution_count": null,
   "id": "94717371",
   "metadata": {},
   "outputs": [],
   "source": [
    "us_df.merge(th_df, how='right', on=['date'], suffixes=('_en', '_th'))"
   ]
  },
  {
   "cell_type": "markdown",
   "id": "6723e9df",
   "metadata": {},
   "source": [
    "## Data Aggregation"
   ]
  },
  {
   "cell_type": "code",
   "execution_count": null,
   "id": "2eb47f6c",
   "metadata": {},
   "outputs": [],
   "source": [
    "us_df.groupby('type_of_monetary_policy')"
   ]
  },
  {
   "cell_type": "code",
   "execution_count": null,
   "id": "2e69dd47",
   "metadata": {},
   "outputs": [],
   "source": [
    "us_df.groupby('type_of_monetary_policy')['policy_rate'].mean()"
   ]
  },
  {
   "cell_type": "code",
   "execution_count": null,
   "id": "4d09755b",
   "metadata": {},
   "outputs": [],
   "source": [
    "agg_rule = {\n",
    "    'policy_rate': 'mean',\n",
    "    'neer': 'median',\n",
    "    'money_supply': 'sum',\n",
    "    'inflation_target': lambda x: x.mode()[0]  # Use mode for the string column\n",
    "}\n",
    "\n",
    "us_df.groupby('type_of_monetary_policy').agg(agg_rule)"
   ]
  },
  {
   "cell_type": "code",
   "execution_count": null,
   "id": "f5308f07",
   "metadata": {},
   "outputs": [],
   "source": [
    "agg_rule = {\n",
    "    'policy_rate': 'mean',\n",
    "    'neer': 'median',\n",
    "    'money_supply': 'sum'\n",
    "}\n",
    "\n",
    "us_df.groupby(['type_of_monetary_policy', 'inflation_target']).agg(agg_rule)"
   ]
  }
 ],
 "metadata": {
  "kernelspec": {
   "display_name": "Python 3 (ipykernel)",
   "language": "python",
   "name": "python3"
  },
  "language_info": {
   "codemirror_mode": {
    "name": "ipython",
    "version": 3
   },
   "file_extension": ".py",
   "mimetype": "text/x-python",
   "name": "python",
   "nbconvert_exporter": "python",
   "pygments_lexer": "ipython3",
   "version": "3.12.4"
  }
 },
 "nbformat": 4,
 "nbformat_minor": 5
}
