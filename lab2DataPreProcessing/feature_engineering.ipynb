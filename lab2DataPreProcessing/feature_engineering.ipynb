{
 "cells": [
  {
   "cell_type": "markdown",
   "id": "8545e761",
   "metadata": {},
   "source": [
    "# Feature Engineering"
   ]
  },
  {
   "cell_type": "code",
   "execution_count": null,
   "id": "771b3c9e",
   "metadata": {},
   "outputs": [],
   "source": [
    "import pandas as pd"
   ]
  },
  {
   "cell_type": "code",
   "execution_count": null,
   "id": "f606b577",
   "metadata": {},
   "outputs": [],
   "source": [
    "df = pd.read_csv('data/us_indicators.csv')"
   ]
  },
  {
   "cell_type": "code",
   "execution_count": null,
   "id": "bb68fa92",
   "metadata": {},
   "outputs": [],
   "source": [
    "# Change date type to datetime format.\n",
    "df['date'] = pd.to_datetime(df['date'], format='%d/%m/%Y')"
   ]
  },
  {
   "cell_type": "code",
   "execution_count": null,
   "id": "a2575354",
   "metadata": {},
   "outputs": [],
   "source": [
    "df"
   ]
  },
  {
   "cell_type": "markdown",
   "id": "1f7337c2",
   "metadata": {},
   "source": [
    "## Feature Creation"
   ]
  },
  {
   "cell_type": "markdown",
   "id": "eb88d692",
   "metadata": {},
   "source": [
    "### Interaction"
   ]
  },
  {
   "cell_type": "code",
   "execution_count": null,
   "id": "3a8f2bd6",
   "metadata": {},
   "outputs": [],
   "source": [
    "df['cpi_policy_rate'] = df['cpi'] * df['policy_rate']"
   ]
  },
  {
   "cell_type": "code",
   "execution_count": null,
   "id": "b174897c",
   "metadata": {},
   "outputs": [],
   "source": [
    "df"
   ]
  },
  {
   "cell_type": "markdown",
   "id": "117707ec",
   "metadata": {},
   "source": [
    "### Date Extraction"
   ]
  },
  {
   "cell_type": "code",
   "execution_count": null,
   "id": "becadaef",
   "metadata": {},
   "outputs": [],
   "source": [
    "df['month'] = df['date'].dt.month"
   ]
  },
  {
   "cell_type": "code",
   "execution_count": null,
   "id": "aaf2d469",
   "metadata": {},
   "outputs": [],
   "source": [
    "df"
   ]
  },
  {
   "cell_type": "markdown",
   "id": "aa03455b",
   "metadata": {},
   "source": [
    "### Lag"
   ]
  },
  {
   "cell_type": "code",
   "execution_count": null,
   "id": "892962b6",
   "metadata": {},
   "outputs": [],
   "source": [
    "df['money_supply_lag'] = df['money_supply'].shift(1)"
   ]
  },
  {
   "cell_type": "code",
   "execution_count": null,
   "id": "c4a14752",
   "metadata": {},
   "outputs": [],
   "source": [
    "df"
   ]
  },
  {
   "cell_type": "markdown",
   "id": "16da5926",
   "metadata": {},
   "source": [
    "### Change"
   ]
  },
  {
   "cell_type": "code",
   "execution_count": null,
   "id": "7fa32875",
   "metadata": {},
   "outputs": [],
   "source": [
    "df['cpi_change'] = df['cpi'].diff(1)"
   ]
  },
  {
   "cell_type": "code",
   "execution_count": null,
   "id": "5b71a826",
   "metadata": {},
   "outputs": [],
   "source": [
    "df"
   ]
  },
  {
   "cell_type": "code",
   "execution_count": null,
   "id": "748069b6",
   "metadata": {},
   "outputs": [],
   "source": [
    "df['cpi_change_rate'] = df['cpi'].pct_change(1)"
   ]
  },
  {
   "cell_type": "code",
   "execution_count": null,
   "id": "b8f5bb19",
   "metadata": {},
   "outputs": [],
   "source": [
    "df"
   ]
  },
  {
   "cell_type": "markdown",
   "id": "bc6e037b",
   "metadata": {},
   "source": [
    "### Rolling"
   ]
  },
  {
   "cell_type": "code",
   "execution_count": null,
   "id": "b9ca65e4",
   "metadata": {},
   "outputs": [],
   "source": [
    "df['cpi_rolling_mean'] = df['cpi'].rolling(window=10).mean()\n",
    "df['cpi_rolling_std'] = df['cpi'].rolling(window=10).std()"
   ]
  },
  {
   "cell_type": "code",
   "execution_count": null,
   "id": "ec8e3727",
   "metadata": {},
   "outputs": [],
   "source": [
    "df.head(20)"
   ]
  },
  {
   "cell_type": "markdown",
   "id": "450424a7",
   "metadata": {},
   "source": [
    "## Encoding"
   ]
  },
  {
   "cell_type": "markdown",
   "id": "b002e288",
   "metadata": {},
   "source": [
    "### Label Encoding"
   ]
  },
  {
   "cell_type": "code",
   "execution_count": null,
   "id": "4d1b91fb",
   "metadata": {},
   "outputs": [],
   "source": [
    "from sklearn.preprocessing import LabelEncoder"
   ]
  },
  {
   "cell_type": "code",
   "execution_count": null,
   "id": "355b4412",
   "metadata": {},
   "outputs": [],
   "source": [
    "label_encoder_inflation = LabelEncoder()\n",
    "df['inflation_target'] = label_encoder_inflation.fit_transform(df['inflation_target'])"
   ]
  },
  {
   "cell_type": "code",
   "execution_count": null,
   "id": "38ca1062",
   "metadata": {},
   "outputs": [],
   "source": [
    "label_encoder_policy = LabelEncoder()\n",
    "df['type_of_monetary_policy'] = label_encoder_policy.fit_transform(df['type_of_monetary_policy'])"
   ]
  },
  {
   "cell_type": "code",
   "execution_count": null,
   "id": "d2c76f20",
   "metadata": {},
   "outputs": [],
   "source": [
    "df"
   ]
  },
  {
   "cell_type": "markdown",
   "id": "efea0eb8",
   "metadata": {},
   "source": [
    "### One-hot Encoding"
   ]
  },
  {
   "cell_type": "code",
   "execution_count": null,
   "id": "cfdaa324",
   "metadata": {},
   "outputs": [],
   "source": [
    "df = pd.get_dummies(df, columns=['month'], prefix=['m'])"
   ]
  },
  {
   "cell_type": "code",
   "execution_count": null,
   "id": "b2bf5571",
   "metadata": {},
   "outputs": [],
   "source": [
    "df"
   ]
  },
  {
   "cell_type": "code",
   "execution_count": null,
   "id": "dbe1aae1",
   "metadata": {},
   "outputs": [],
   "source": [
    "df[['date'] + [x for x in df.columns if 'm_' in x]]"
   ]
  },
  {
   "cell_type": "markdown",
   "id": "b7d78104",
   "metadata": {},
   "source": [
    "## Transformation"
   ]
  },
  {
   "cell_type": "markdown",
   "id": "99f82405",
   "metadata": {},
   "source": [
    "### Normalization"
   ]
  },
  {
   "cell_type": "code",
   "execution_count": null,
   "id": "e2c9b271",
   "metadata": {},
   "outputs": [],
   "source": [
    "from sklearn.preprocessing import MinMaxScaler"
   ]
  },
  {
   "cell_type": "code",
   "execution_count": null,
   "id": "d8157a9c",
   "metadata": {},
   "outputs": [],
   "source": [
    "df['neer'].describe()"
   ]
  },
  {
   "cell_type": "code",
   "execution_count": null,
   "id": "dd4e4d17",
   "metadata": {},
   "outputs": [],
   "source": [
    "neer_scaler = MinMaxScaler()\n",
    "df['neer'] = neer_scaler.fit_transform(df[['neer']])"
   ]
  },
  {
   "cell_type": "code",
   "execution_count": null,
   "id": "ef27e2f1",
   "metadata": {},
   "outputs": [],
   "source": [
    "df"
   ]
  },
  {
   "cell_type": "code",
   "execution_count": null,
   "id": "77181e44",
   "metadata": {},
   "outputs": [],
   "source": [
    "df['neer'].describe()"
   ]
  },
  {
   "cell_type": "markdown",
   "id": "0941bfcc",
   "metadata": {},
   "source": [
    "### Scaling"
   ]
  },
  {
   "cell_type": "code",
   "execution_count": null,
   "id": "5c6581a3",
   "metadata": {},
   "outputs": [],
   "source": [
    "from sklearn.preprocessing import StandardScaler"
   ]
  },
  {
   "cell_type": "code",
   "execution_count": null,
   "id": "8f880e55",
   "metadata": {},
   "outputs": [],
   "source": [
    "df['money_supply'].describe()"
   ]
  },
  {
   "cell_type": "code",
   "execution_count": null,
   "id": "259cc81c",
   "metadata": {},
   "outputs": [],
   "source": [
    "money_supply_scaler = StandardScaler()\n",
    "df['money_supply'] = money_supply_scaler.fit_transform(df[['money_supply']])"
   ]
  },
  {
   "cell_type": "code",
   "execution_count": null,
   "id": "c5f35709",
   "metadata": {},
   "outputs": [],
   "source": [
    "df"
   ]
  },
  {
   "cell_type": "code",
   "execution_count": null,
   "id": "bc1ea446",
   "metadata": {},
   "outputs": [],
   "source": [
    "df['money_supply'].describe()"
   ]
  },
  {
   "cell_type": "markdown",
   "id": "3f06fed4",
   "metadata": {},
   "source": [
    "## Dimensionality Reduction"
   ]
  },
  {
   "cell_type": "code",
   "execution_count": null,
   "id": "177e45bb",
   "metadata": {},
   "outputs": [],
   "source": [
    "from sklearn.decomposition import PCA"
   ]
  },
  {
   "cell_type": "code",
   "execution_count": null,
   "id": "64ecd5b5",
   "metadata": {},
   "outputs": [],
   "source": [
    "# Drop date as PCA only accept number.\n",
    "# Drop ['money_supply_lag', 'cpi_change', 'cpi_change_rate', 'cpi_rolling_mean', 'cpi_rolling_std'] as PCA not accept NaN.\n",
    "features = df.drop(columns=['date', 'money_supply_lag', 'cpi_change', 'cpi_change_rate', 'cpi_rolling_mean', 'cpi_rolling_std'])"
   ]
  },
  {
   "cell_type": "code",
   "execution_count": null,
   "id": "44f425b1",
   "metadata": {},
   "outputs": [],
   "source": [
    "features"
   ]
  },
  {
   "cell_type": "code",
   "execution_count": null,
   "id": "6a462a4b",
   "metadata": {},
   "outputs": [],
   "source": [
    "pca = PCA(n_components=2)\n",
    "pca_data = pca.fit_transform(features)"
   ]
  },
  {
   "cell_type": "code",
   "execution_count": null,
   "id": "6abf8012",
   "metadata": {},
   "outputs": [],
   "source": [
    "pca_data"
   ]
  },
  {
   "cell_type": "code",
   "execution_count": null,
   "id": "de165ba2",
   "metadata": {},
   "outputs": [],
   "source": [
    "pca_df = pd.DataFrame(data=pca_data)"
   ]
  },
  {
   "cell_type": "code",
   "execution_count": null,
   "id": "8520362b",
   "metadata": {},
   "outputs": [],
   "source": [
    "pca_df"
   ]
  },
  {
   "cell_type": "code",
   "execution_count": null,
   "id": "435cc80c",
   "metadata": {},
   "outputs": [],
   "source": [
    "features_df = pd.concat([df[['date']], pca_df], axis=1)\n",
    "features_df"
   ]
  }
 ],
 "metadata": {
  "kernelspec": {
   "display_name": "Python 3 (ipykernel)",
   "language": "python",
   "name": "python3"
  },
  "language_info": {
   "codemirror_mode": {
    "name": "ipython",
    "version": 3
   },
   "file_extension": ".py",
   "mimetype": "text/x-python",
   "name": "python",
   "nbconvert_exporter": "python",
   "pygments_lexer": "ipython3",
   "version": "3.12.4"
  }
 },
 "nbformat": 4,
 "nbformat_minor": 5
}
